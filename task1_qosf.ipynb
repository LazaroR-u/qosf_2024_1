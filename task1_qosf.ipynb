{
  "nbformat": 4,
  "nbformat_minor": 0,
  "metadata": {
    "colab": {
      "provenance": [],
      "authorship_tag": "ABX9TyPsa7+QPd76oFveyhR146fM",
      "include_colab_link": true
    },
    "kernelspec": {
      "name": "python3",
      "display_name": "Python 3"
    },
    "language_info": {
      "name": "python"
    }
  },
  "cells": [
    {
      "cell_type": "markdown",
      "metadata": {
        "id": "view-in-github",
        "colab_type": "text"
      },
      "source": [
        "<a href=\"https://colab.research.google.com/github/LazaroR-u/qosf_2024_1/blob/main/task1_qosf.ipynb\" target=\"_parent\"><img src=\"https://colab.research.google.com/assets/colab-badge.svg\" alt=\"Open In Colab\"/></a>"
      ]
    },
    {
      "cell_type": "markdown",
      "source": [
        "# TASK I QOSF"
      ],
      "metadata": {
        "id": "vFV9C_5QKe__"
      }
    },
    {
      "cell_type": "markdown",
      "source": [
        "Task 1 less than k\n",
        "\n",
        "Given a positive integer “k” and a list of integer numbers, look for the numbers within the list, that are less than k. Consider an appropriate number of qubits and explain why your proposal is valid for all kinds of numbers in case\n",
        "\n",
        "\n",
        "\n",
        "\n",
        "```\n",
        "def less_than_k (int:k, list[int]: list_n):\n",
        "     “””\n",
        "k : integer value that is the positive number to compare in list_n,\n",
        "list_n : integer list that has positive numbers.\n",
        "Return the numbers that are in list_n and are less than k\n",
        "     “””\n",
        "```\n",
        "\n",
        "\n",
        "\n",
        "     # use a framework that works with quantum circuits, qiskit, cirq, pennylane, etc.\n",
        "\n",
        "      # consider print your quantum circuit.\n",
        "\n",
        "\n",
        "Example:\n",
        "\n",
        "\n",
        "\n",
        "```\n",
        "A = less_than_k (7,[4,9,11,14,1,13,6,15])\n",
        "print(A)\n",
        "```\n",
        "\n",
        "```\n",
        ">>>> “4,1,6”\n",
        "```\n",
        "\n"
      ],
      "metadata": {
        "id": "ibPq8MJ7LGRt"
      }
    },
    {
      "cell_type": "markdown",
      "source": [
        "### Solution:"
      ],
      "metadata": {
        "id": "qNDiQFdhtmUo"
      }
    },
    {
      "cell_type": "markdown",
      "source": [
        "We aim to construct a function that returns numbers from a list that are less than a certain number $k$. To achieve this, we will follow these steps:\n",
        "\n",
        "* Build a function to convert a number to binary format.\n",
        "* Define a function that compares two binary numbers of $n$ digits using a quantum circuit.\n",
        "  - First, we will use a circuit to compare each digit in a binary number.\n",
        "  - Second, we will concatenate the differences found between the digits of two binary numbers.\n",
        "  - Third, the circuit should return one of the following 3 states: the first number is greater than the second, the second number is greater than the first, or both numbers are equal.\n",
        "* Utilize this function to compare the fixed number $k$ and each number in the list. This function should return a list with numbers less than the fixed number.\n"
      ],
      "metadata": {
        "id": "_olK8NBvTRJD"
      }
    },
    {
      "cell_type": "code",
      "source": [
        "%%capture\n",
        "pip install qiskit"
      ],
      "metadata": {
        "id": "-2rl4fFUts_G"
      },
      "execution_count": 1,
      "outputs": []
    },
    {
      "cell_type": "code",
      "source": [
        "%%capture\n",
        "pip install -U qiskit-aer"
      ],
      "metadata": {
        "id": "FAoAsrGOuiJE"
      },
      "execution_count": 2,
      "outputs": []
    },
    {
      "cell_type": "code",
      "source": [
        "from qiskit_aer import Aer\n",
        "import numpy as np\n",
        "from qiskit import QuantumCircuit, transpile, QuantumRegister, ClassicalRegister\n",
        "import warnings\n",
        "warnings.filterwarnings(\"ignore\", message=\"Conversion of an array with ndim > 0 to a scalar is deprecated.*\")\n"
      ],
      "metadata": {
        "id": "haQETttvuNXx"
      },
      "execution_count": 3,
      "outputs": []
    },
    {
      "cell_type": "code",
      "source": [
        "# Function to convert an integer to binary format with zero padding.\n",
        "# Value: the integer to be converted.\n",
        "# Zeros: the number of zeros to add for padding the binary format.\n",
        "def int_to_bin(value: int, zeros: int):\n",
        "    return bin(value)[2:].zfill(zeros)\n",
        "\n",
        "# Function to encode a single bit into a quantum circuit.\n",
        "# Bit: the bit to encode, can be '0' or '1'.\n",
        "def encode(bit):\n",
        "    qr = QuantumRegister(1, \"number\")\n",
        "    qc = QuantumCircuit(qr)\n",
        "    if (bit == \"1\"):\n",
        "        qc.x(qr[0])\n",
        "    return qc\n",
        "\n",
        "# Function to return a quantum circuit for subtracting two bits.\n",
        "# This quantum circuit compares two bits and generates a state indicating their relationship.\n",
        "# There are four possible outcomes:\n",
        "# 1. If both bits are 0, the output is 000.\n",
        "# 2. If both bits are 1, the output is 100.\n",
        "# 3. If the first bit is 1 and the second is 0, the output is 111.\n",
        "# 4. If the first bit is 0 and the second is 1, the output is 010.\n",
        "# The second qubit indicates whether the two bits are equal (0) or different (1).\n",
        "# The third qubit indicates whether the first bit is greater than the second (1) or not (0).\n",
        "def bit_subtract():\n",
        "    bits = QuantumRegister(2, \"bits\")\n",
        "    out = QuantumRegister(1, \"out\")\n",
        "\n",
        "    qc = QuantumCircuit(bits, out)\n",
        "    qc.cx(bits[0], bits[1])  # Compare the two bits\n",
        "    qc.mcx(bits, out)\n",
        "\n",
        "    return qc\n"
      ],
      "metadata": {
        "id": "VandnQxgzcRW"
      },
      "execution_count": 4,
      "outputs": []
    },
    {
      "cell_type": "code",
      "source": [
        "def compare_bitstring(bitstring_a, bitstring_b, exec=True):\n",
        "    # Determine the number of bits in the bitstring\n",
        "    bits = len(bitstring_b)\n",
        "\n",
        "    # Define Quantum Registers\n",
        "    qra = QuantumRegister(bits, \"a\")\n",
        "    qrb = QuantumRegister(bits, \"b\")\n",
        "    qrcarry = QuantumRegister(bits, \"carry\")\n",
        "    qreq = QuantumRegister(1, \"equal\")\n",
        "\n",
        "    # Define Classical Register for measurement\n",
        "    cr = ClassicalRegister(2)\n",
        "\n",
        "    # Create Quantum Circuit\n",
        "    qc = QuantumCircuit(qra, qrb, qrcarry, qreq, cr)\n",
        "\n",
        "    # Encoding input bitstrings into quantum states\n",
        "    for i in range(bits):\n",
        "        qc.append(encode(bitstring_a[::-1][i]), [qra[i]])\n",
        "        qc.append(encode(bitstring_b[::-1][i]), [qrb[i]])\n",
        "\n",
        "        # Subtracting bits and handling carries\n",
        "        if i > 0:\n",
        "            qc.append(bit_subtract(), [qrcarry[i-1], qrb[i], qrcarry[i]])\n",
        "        qc.append(bit_subtract(), [qra[i], qrb[i], qrcarry[i]])\n",
        "\n",
        "    # Inverting the second bitstring for comparison\n",
        "    for i in range(bits):\n",
        "        qc.x(qrb[i])\n",
        "\n",
        "    # Performing a multi-controlled X gate to check if all bits are equal\n",
        "    qc.mcx([*qrb], qreq)\n",
        "\n",
        "    # Measure the carry and equality registers\n",
        "    qc.measure(qrcarry[bits-1], cr[0])\n",
        "    qc.measure(qreq, cr[1])\n",
        "\n",
        "    # Tell Qiskit how to simulate our circuit\n",
        "    backend = Aer.get_backend('qasm_simulator')\n",
        "\n",
        "    # Do the simulation, returning the result\n",
        "    new_circuit = transpile(qc, backend)\n",
        "    result = backend.run(new_circuit, shots=1000).result()\n",
        "\n",
        "    # Get the probability distribution\n",
        "    counts = result.get_counts()\n",
        "\n",
        "    # The results could be the following:\n",
        "    # '01' if the first bitstring is greater than the second\n",
        "    # '10' if the first bitstring is equal to the second\n",
        "    # '00' if the first bitstring is less than the second\n",
        "    return counts\n",
        "\n",
        "\n"
      ],
      "metadata": {
        "id": "NE0vlF4kHjVJ"
      },
      "execution_count": 5,
      "outputs": []
    },
    {
      "cell_type": "code",
      "source": [
        "def less_than_k(k, list_n):\n",
        "    \"\"\"\n",
        "    Compares each value in a list with a reference fixed value k using the compare_bitstring function.\n",
        "    k : integer value that is the positive number to compare in list_n,\n",
        "    list_n : integer list that has positive numbers.\n",
        "    Return a list with the numbers that are in list_n and are less than k\n",
        "    \"\"\"\n",
        "    results = []\n",
        "    output = []\n",
        "\n",
        "    # Determine the number of bits needed for comparison\n",
        "    max_value = max(max(list_n), k + 1)\n",
        "    num_bits = int(np.ceil(np.log2(max_value)))\n",
        "\n",
        "    # Compare each value with the reference value k\n",
        "    for val in list_n:\n",
        "        # Convert values to binary strings\n",
        "        val_binary = int_to_bin(val, num_bits)\n",
        "        ref_binary = int_to_bin(k, num_bits)\n",
        "        # Compare binary strings using the compare_bitstring function\n",
        "        results.append(compare_bitstring(ref_binary, val_binary))\n",
        "\n",
        "    # Collect values less than the reference value\n",
        "    for i, result in enumerate(results):\n",
        "        if result.get('01') == 1000:\n",
        "            output.append(list_n[i])\n",
        "\n",
        "    return output\n"
      ],
      "metadata": {
        "id": "Dm-z-dE0rPuE"
      },
      "execution_count": 6,
      "outputs": []
    },
    {
      "cell_type": "code",
      "source": [
        "values = [1,2,3,3,4,5,6,7,8,9,10, 11, 12, 13 ,15]\n",
        "k = 7\n",
        "less_than_k(k,values)"
      ],
      "metadata": {
        "colab": {
          "base_uri": "https://localhost:8080/"
        },
        "id": "iyjMg31OYiVh",
        "outputId": "8009f5c1-098d-475e-9de3-c94ae7e1d502"
      },
      "execution_count": 7,
      "outputs": [
        {
          "output_type": "execute_result",
          "data": {
            "text/plain": [
              "[1, 2, 3, 3, 4, 5, 6]"
            ]
          },
          "metadata": {},
          "execution_count": 7
        }
      ]
    },
    {
      "cell_type": "markdown",
      "source": [
        "**Conclusion**:\n",
        "\n",
        "Through this exercise, we successfully implemented a quantum algorithm aimed at identifying integers within a list that are less than a fixed number $k$. Leveraging binary numbers allowed for a straightforward encoding of integers into quantum circuits.\n",
        "\n",
        "A notable advantage of this approach is its purely quantum nature, eliminating the need to preselect numbers less than $k$. The quantum circuit autonomously conducts comparisons between pairs of numbers, streamlining the process.\n",
        "\n",
        "This method showcased efficient comparison and evaluation of integer values, highlighting the adaptability of quantum computing in handling integer-based tasks. It's worth noting that due to limitations in the \"qasm_simulator,\" we're constrained to comparing numbers with a maximum length of 9 bits, equating to the number 511.\n",
        "\n",
        "However, as the number of bits increases, so does the computational complexity. Hence, exploring alternative approaches to alleviate this computational burden and bolster efficiency may be worthwhile."
      ],
      "metadata": {
        "id": "WQAFGhQ9-HL3"
      }
    },
    {
      "cell_type": "markdown",
      "source": [
        "\n",
        "References:\n",
        "\n",
        "[1] Deutsch, David, and Richard Jozsa. \"Rapid solution of problems by quantum computation.\" Proceedings of the Royal Society of London. Series A: Mathematical and Physical Sciences 439.1907 (1992): 553-558.\n",
        "\n",
        "[2] Bernstein, Ethan, and Umesh Vazirani. \"Quantum complexity theory.\" SIAM Journal on computing 26.5 (1997): 1411-1473.\n",
        "\n",
        "[3] Grover, Lov K. , \"A fast quantum mechanical algorithm for database search\", Proceedings of the 28th Annual ACM Symposium on the Theory of Computing (1996), arXiv:quant-ph/9605043\n",
        "\n",
        "[4] Zicker Frank. \"A Beginner-Friendly Quantum Algorithm\", Medium. (2023)\n",
        "https://pyqml.medium.com/a-beginner-friendly-quantum-algorithm-9d7b32e575b5"
      ],
      "metadata": {
        "id": "_1X9o2W4CGGH"
      }
    },
    {
      "cell_type": "markdown",
      "source": [
        "## extra"
      ],
      "metadata": {
        "id": "zEiOpsk90nDJ"
      }
    },
    {
      "cell_type": "markdown",
      "source": [
        "Comparing results with classical operation"
      ],
      "metadata": {
        "id": "OZKPmvKq8e-9"
      }
    },
    {
      "cell_type": "code",
      "source": [
        "import random\n",
        "\n",
        "n = 10\n",
        "maximo = 256\n",
        "values = [random.randint(1, maximo) for _ in range(n)]\n",
        "k = random.randint(1, maximo)\n",
        "classical_solution = [val for val in values if val < k]\n",
        "quantum_solution = less_than_k(k,values)\n",
        "\n",
        "print(classical_solution)\n",
        "print(quantum_solution)"
      ],
      "metadata": {
        "colab": {
          "base_uri": "https://localhost:8080/"
        },
        "id": "OBmWiZ76yafI",
        "outputId": "bf044dae-fec1-47ba-f4b2-c1fb154dd81b"
      },
      "execution_count": 14,
      "outputs": [
        {
          "output_type": "stream",
          "name": "stdout",
          "text": [
            "[14, 9, 4, 20]\n",
            "[14, 9, 4, 20]\n"
          ]
        }
      ]
    },
    {
      "cell_type": "code",
      "source": [
        "# to compare 499 with 400 or 500 we need near of 30 qubits. This makes circuit computationally expensive.\n",
        "less_than_k(499, [400,500])"
      ],
      "metadata": {
        "colab": {
          "base_uri": "https://localhost:8080/"
        },
        "id": "ZoB8Ed5PCFlN",
        "outputId": "c338ccee-4064-4cd7-c935-a15bf1b58882"
      },
      "execution_count": 10,
      "outputs": [
        {
          "output_type": "execute_result",
          "data": {
            "text/plain": [
              "[400]"
            ]
          },
          "metadata": {},
          "execution_count": 10
        }
      ]
    },
    {
      "cell_type": "markdown",
      "source": [
        "About the quantum circuit"
      ],
      "metadata": {
        "id": "uNiRcmFH8alD"
      }
    },
    {
      "cell_type": "code",
      "source": [
        "def compare_bitstring_circuit(bitstring_a, bitstring_b, exec=True):\n",
        "\n",
        "    bits = len(bitstring_b)\n",
        "    qra = QuantumRegister(bits, \"a\")\n",
        "    qrb = QuantumRegister(bits, \"b\")\n",
        "    qrcarry = QuantumRegister(bits, \"carry\")\n",
        "    qreq = QuantumRegister(1, \"equal\")\n",
        "\n",
        "    cr = ClassicalRegister(2)\n",
        "\n",
        "    qc = QuantumCircuit(qra, qrb, qrcarry, qreq, cr)\n",
        "\n",
        "    for i in range(bits):\n",
        "        qc.append(encode(bitstring_a[::-1][i]), [qra[i]])\n",
        "        qc.append(encode(bitstring_b[::-1][i]), [qrb[i]])\n",
        "\n",
        "        if i > 0:\n",
        "            qc.append(bit_subtract(), [ qrcarry[i-1], qrb[i], qrcarry[i] ])\n",
        "\n",
        "        qc.append(bit_subtract(), [qra[i], qrb[i], qrcarry[i]])\n",
        "\n",
        "    for i in range(bits):\n",
        "        qc.x(qrb[i])\n",
        "\n",
        "    qc.mcx([*qrb], qreq)\n",
        "\n",
        "    qc.measure(qrcarry[bits-1], cr[0])\n",
        "    qc.measure(qreq, cr[1])\n",
        "\n",
        "    return qc"
      ],
      "metadata": {
        "id": "N6oRTuxW1Nnd"
      },
      "execution_count": 11,
      "outputs": []
    },
    {
      "cell_type": "code",
      "source": [
        "qc = compare_bitstring_circuit(\"1\", \"0\")\n",
        "qc.draw()"
      ],
      "metadata": {
        "id": "bSTkgXIM1P-j",
        "colab": {
          "base_uri": "https://localhost:8080/",
          "height": 186
        },
        "outputId": "aee7314e-4860-4233-f883-6694187bc100"
      },
      "execution_count": 12,
      "outputs": [
        {
          "output_type": "execute_result",
          "data": {
            "text/plain": [
              "       ┌──────────────┐┌───────────────┐             \n",
              "    a: ┤ circuit-1191 ├┤0              ├─────────────\n",
              "       ├──────────────┤│               │┌───┐        \n",
              "    b: ┤ circuit-1194 ├┤1 circuit-1197 ├┤ X ├──■─────\n",
              "       └──────────────┘│               │└┬─┬┘  │     \n",
              "carry: ────────────────┤2              ├─┤M├───┼─────\n",
              "                       └───────────────┘ └╥┘ ┌─┴─┐┌─┐\n",
              "equal: ───────────────────────────────────╫──┤ X ├┤M├\n",
              "                                          ║  └───┘└╥┘\n",
              "c18: 2/═══════════════════════════════════╩════════╩═\n",
              "                                          0        1 "
            ],
            "text/html": [
              "<pre style=\"word-wrap: normal;white-space: pre;background: #fff0;line-height: 1.1;font-family: &quot;Courier New&quot;,Courier,monospace\">       ┌──────────────┐┌───────────────┐             \n",
              "    a: ┤ circuit-1191 ├┤0              ├─────────────\n",
              "       ├──────────────┤│               │┌───┐        \n",
              "    b: ┤ circuit-1194 ├┤1 circuit-1197 ├┤ X ├──■─────\n",
              "       └──────────────┘│               │└┬─┬┘  │     \n",
              "carry: ────────────────┤2              ├─┤M├───┼─────\n",
              "                       └───────────────┘ └╥┘ ┌─┴─┐┌─┐\n",
              "equal: ───────────────────────────────────╫──┤ X ├┤M├\n",
              "                                          ║  └───┘└╥┘\n",
              "c18: 2/═══════════════════════════════════╩════════╩═\n",
              "                                          0        1 </pre>"
            ]
          },
          "metadata": {},
          "execution_count": 12
        }
      ]
    },
    {
      "cell_type": "code",
      "source": [
        "qc = compare_bitstring_circuit(\"100\", \"001\")\n",
        "qc.draw()"
      ],
      "metadata": {
        "id": "On2b6gMw8Bha",
        "colab": {
          "base_uri": "https://localhost:8080/",
          "height": 725
        },
        "outputId": "b99f667c-9979-4f17-9743-982844ac2357"
      },
      "execution_count": 13,
      "outputs": [
        {
          "output_type": "execute_result",
          "data": {
            "text/plain": [
              "         ┌──────────────┐┌───────────────┐                                  »\n",
              "    a_0: ┤ circuit-1201 ├┤0              ├──────────────────────────────────»\n",
              "         ├──────────────┤│               │                 ┌───────────────┐»\n",
              "    a_1: ┤ circuit-1210 ├┤               ├─────────────────┤0              ├»\n",
              "         ├──────────────┤│               │                 │               │»\n",
              "    a_2: ┤ circuit-1222 ├┤               ├─────────────────┤               ├»\n",
              "         ├──────────────┤│               │      ┌───┐      │               │»\n",
              "    b_0: ┤ circuit-1204 ├┤1 circuit-1207 ├──────┤ X ├──────┤               ├»\n",
              "         ├──────────────┤│               │┌─────┴───┴─────┐│               │»\n",
              "    b_1: ┤ circuit-1213 ├┤               ├┤1              ├┤1 circuit-1219 ├»\n",
              "         ├──────────────┤│               ││               ││               │»\n",
              "    b_2: ┤ circuit-1225 ├┤               ├┤               ├┤               ├»\n",
              "         └──────────────┘│               ││  circuit-1216 ││               │»\n",
              "carry_0: ────────────────┤2              ├┤0              ├┤               ├»\n",
              "                         └───────────────┘│               ││               │»\n",
              "carry_1: ─────────────────────────────────┤2              ├┤2              ├»\n",
              "                                          └───────────────┘└───────────────┘»\n",
              "carry_2: ───────────────────────────────────────────────────────────────────»\n",
              "                                                                            »\n",
              "  equal: ───────────────────────────────────────────────────────────────────»\n",
              "                                                                            »\n",
              "  c19: 2/═══════════════════════════════════════════════════════════════════»\n",
              "                                                                            »\n",
              "«                                                        \n",
              "«    a_0: ───────────────────────────────────────────────\n",
              "«                                                        \n",
              "«    a_1: ───────────────────────────────────────────────\n",
              "«                          ┌───────────────┐             \n",
              "«    a_2: ─────────────────┤0              ├─────────────\n",
              "«                          │               │             \n",
              "«    b_0: ─────────────────┤               ├───────■─────\n",
              "«               ┌───┐      │               │       │     \n",
              "«    b_1: ──────┤ X ├──────┤               ├───────■─────\n",
              "«         ┌─────┴───┴─────┐│               │┌───┐  │     \n",
              "«    b_2: ┤1              ├┤1 circuit-1231 ├┤ X ├──■─────\n",
              "«         │               ││               │└───┘  │     \n",
              "«carry_0: ┤               ├┤               ├───────┼─────\n",
              "«         │  circuit-1228 ││               │       │     \n",
              "«carry_1: ┤0              ├┤               ├───────┼─────\n",
              "«         │               ││               │ ┌─┐   │     \n",
              "«carry_2: ┤2              ├┤2              ├─┤M├───┼─────\n",
              "«         └───────────────┘└───────────────┘ └╥┘ ┌─┴─┐┌─┐\n",
              "«  equal: ────────────────────────────────────╫──┤ X ├┤M├\n",
              "«                                             ║  └───┘└╥┘\n",
              "«  c19: 2/════════════════════════════════════╩════════╩═\n",
              "«                                             0        1 "
            ],
            "text/html": [
              "<pre style=\"word-wrap: normal;white-space: pre;background: #fff0;line-height: 1.1;font-family: &quot;Courier New&quot;,Courier,monospace\">         ┌──────────────┐┌───────────────┐                                  »\n",
              "    a_0: ┤ circuit-1201 ├┤0              ├──────────────────────────────────»\n",
              "         ├──────────────┤│               │                 ┌───────────────┐»\n",
              "    a_1: ┤ circuit-1210 ├┤               ├─────────────────┤0              ├»\n",
              "         ├──────────────┤│               │                 │               │»\n",
              "    a_2: ┤ circuit-1222 ├┤               ├─────────────────┤               ├»\n",
              "         ├──────────────┤│               │      ┌───┐      │               │»\n",
              "    b_0: ┤ circuit-1204 ├┤1 circuit-1207 ├──────┤ X ├──────┤               ├»\n",
              "         ├──────────────┤│               │┌─────┴───┴─────┐│               │»\n",
              "    b_1: ┤ circuit-1213 ├┤               ├┤1              ├┤1 circuit-1219 ├»\n",
              "         ├──────────────┤│               ││               ││               │»\n",
              "    b_2: ┤ circuit-1225 ├┤               ├┤               ├┤               ├»\n",
              "         └──────────────┘│               ││  circuit-1216 ││               │»\n",
              "carry_0: ────────────────┤2              ├┤0              ├┤               ├»\n",
              "                         └───────────────┘│               ││               │»\n",
              "carry_1: ─────────────────────────────────┤2              ├┤2              ├»\n",
              "                                          └───────────────┘└───────────────┘»\n",
              "carry_2: ───────────────────────────────────────────────────────────────────»\n",
              "                                                                            »\n",
              "  equal: ───────────────────────────────────────────────────────────────────»\n",
              "                                                                            »\n",
              "  c19: 2/═══════════════════════════════════════════════════════════════════»\n",
              "                                                                            »\n",
              "«                                                        \n",
              "«    a_0: ───────────────────────────────────────────────\n",
              "«                                                        \n",
              "«    a_1: ───────────────────────────────────────────────\n",
              "«                          ┌───────────────┐             \n",
              "«    a_2: ─────────────────┤0              ├─────────────\n",
              "«                          │               │             \n",
              "«    b_0: ─────────────────┤               ├───────■─────\n",
              "«               ┌───┐      │               │       │     \n",
              "«    b_1: ──────┤ X ├──────┤               ├───────■─────\n",
              "«         ┌─────┴───┴─────┐│               │┌───┐  │     \n",
              "«    b_2: ┤1              ├┤1 circuit-1231 ├┤ X ├──■─────\n",
              "«         │               ││               │└───┘  │     \n",
              "«carry_0: ┤               ├┤               ├───────┼─────\n",
              "«         │  circuit-1228 ││               │       │     \n",
              "«carry_1: ┤0              ├┤               ├───────┼─────\n",
              "«         │               ││               │ ┌─┐   │     \n",
              "«carry_2: ┤2              ├┤2              ├─┤M├───┼─────\n",
              "«         └───────────────┘└───────────────┘ └╥┘ ┌─┴─┐┌─┐\n",
              "«  equal: ────────────────────────────────────╫──┤ X ├┤M├\n",
              "«                                             ║  └───┘└╥┘\n",
              "«  c19: 2/════════════════════════════════════╩════════╩═\n",
              "«                                             0        1 </pre>"
            ]
          },
          "metadata": {},
          "execution_count": 13
        }
      ]
    },
    {
      "cell_type": "markdown",
      "source": [
        "This compare bitstring circuit utilizes $3n + 1$ qubits, where $n$ represents the number of bits in the binary number being compared. For instance, when comparing the numbers 3 and 4, their corresponding binary representations are \"011\" and \"100\". In this case, $n = 3$, requiring $3 \\times 3 + 1 = 10$ qubits in the quantum circuit."
      ],
      "metadata": {
        "id": "GzojCoKAAANj"
      }
    }
  ]
}